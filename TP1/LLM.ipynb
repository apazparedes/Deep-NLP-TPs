{
 "cells": [
  {
   "cell_type": "code",
   "execution_count": null,
   "id": "b95f98bd-d848-4e26-947d-7099a9e89030",
   "metadata": {},
   "outputs": [],
   "source": [
    "!pip install torch tensorflow transformers pandas tf-keras hf_xet"
   ]
  },
  {
   "cell_type": "code",
   "execution_count": 8,
   "id": "720e0fcb-9fe9-45e2-91cb-acc8fcb0ea88",
   "metadata": {},
   "outputs": [],
   "source": [
    "import pandas as pd\n",
    "\n",
    "articles = pd.read_csv('LeMonde2003_9classes(1).csv')"
   ]
  },
  {
   "cell_type": "code",
   "execution_count": 9,
   "id": "76041433-ad08-4d9b-abf0-e2f66cecac76",
   "metadata": {},
   "outputs": [],
   "source": [
    "from sklearn.model_selection import train_test_split\n",
    "\n",
    "train, test = train_test_split(articles, test_size=0.2, random_state=42)"
   ]
  },
  {
   "cell_type": "code",
   "execution_count": 12,
   "id": "34bd96a5-43ca-48ef-9817-7d8532e75aac",
   "metadata": {},
   "outputs": [
    {
     "name": "stderr",
     "output_type": "stream",
     "text": [
      "Device set to use cuda:0\n",
      "100%|██████████| 177/177 [15:52<00:00,  5.38s/it]\n"
     ]
    }
   ],
   "source": [
    "import pandas as pd\n",
    "from transformers import pipeline\n",
    "from tqdm import tqdm\n",
    "\n",
    "batch_size = 32\n",
    "\n",
    "\n",
    "classifier = pipeline(\"zero-shot-classification\", model=\"facebook/bart-large-mnli\", device=0)\n",
    "\n",
    "\n",
    "new_data = test[test['category'] != \"UNE\"].copy()\n",
    "new_data.loc[new_data['category'] == 'SOC', 'category'] = 'FRA'\n",
    "new_data = new_data.reset_index(drop=True)\n",
    "\n",
    "\n",
    "category_to_label = {\n",
    "    \"SPO\": \"sport\",\n",
    "    \"ART\": \"art\",\n",
    "    \"FRA\": \"actualité france\",\n",
    "    \"INT\": \"international\",\n",
    "    \"ENT\": \"économie\"\n",
    "}\n",
    "\n",
    "\n",
    "new_data[\"category_explicit\"] = new_data[\"category\"].map(category_to_label)\n",
    "labels = list(category_to_label.values())\n",
    "\n",
    "\n",
    "predicted_labels = []\n",
    "\n",
    "for start in tqdm(range(0, len(new_data), batch_size)):\n",
    "    end = min(start + batch_size, len(new_data))\n",
    "    batch_texts = new_data.loc[start:end-1, \"text\"].fillna(\"\").astype(str).str.slice(0, 300).tolist()\n",
    "\n",
    "    for text in batch_texts:\n",
    "        try:\n",
    "            result = classifier(text, labels, multi_label=False)\n",
    "            predicted_labels.append(result[\"labels\"][0])\n",
    "        except Exception as e:\n",
    "            print(f\"Error on text: {text[:50]}... → {e}\")\n",
    "            predicted_labels.append(None)\n",
    "\n",
    "\n",
    "new_data[\"predicted_label\"] = predicted_labels\n"
   ]
  },
  {
   "cell_type": "code",
   "execution_count": 13,
   "id": "fdd15c99-467f-4226-8bea-a0ef23e8209f",
   "metadata": {},
   "outputs": [
    {
     "name": "stdout",
     "output_type": "stream",
     "text": [
      "\n",
      " Accuracy : 0.48\n",
      "\n",
      "Classification report :\n",
      "                  precision    recall  f1-score   support\n",
      "\n",
      "           sport       0.55      0.67      0.60       548\n",
      "             art       0.38      0.21      0.27       919\n",
      "actualité france       0.61      0.44      0.51      1478\n",
      "   international       0.43      0.81      0.56      1491\n",
      "        économie       0.46      0.22      0.30      1201\n",
      "\n",
      "        accuracy                           0.48      5637\n",
      "       macro avg       0.49      0.47      0.45      5637\n",
      "    weighted avg       0.49      0.48      0.45      5637\n",
      "\n"
     ]
    }
   ],
   "source": [
    "from sklearn.metrics import accuracy_score, classification_report\n",
    "\n",
    "\n",
    "mask = new_data[\"category_explicit\"].notna() & new_data[\"predicted_label\"].notna()\n",
    "y_true = new_data.loc[mask, \"category_explicit\"]\n",
    "y_pred = new_data.loc[mask, \"predicted_label\"]\n",
    "\n",
    "\n",
    "acc = accuracy_score(y_true, y_pred)\n",
    "print(f\"\\n Accuracy : {acc:.2f}\\n\")\n",
    "\n",
    "print(\"Classification report :\")\n",
    "print(classification_report(y_true, y_pred, labels=list(category_to_label.values())))\n"
   ]
  }
 ],
 "metadata": {
  "kernelspec": {
   "display_name": "Python 3 (ipykernel)",
   "language": "python",
   "name": "python3"
  },
  "language_info": {
   "codemirror_mode": {
    "name": "ipython",
    "version": 3
   },
   "file_extension": ".py",
   "mimetype": "text/x-python",
   "name": "python",
   "nbconvert_exporter": "python",
   "pygments_lexer": "ipython3",
   "version": "3.12.9"
  }
 },
 "nbformat": 4,
 "nbformat_minor": 5
}
