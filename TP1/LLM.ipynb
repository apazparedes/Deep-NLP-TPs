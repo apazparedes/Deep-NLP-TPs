{
 "cells": [
  {
   "cell_type": "code",
   "execution_count": null,
   "id": "b95f98bd-d848-4e26-947d-7099a9e89030",
   "metadata": {},
   "outputs": [],
   "source": [
    "!pip install torch"
   ]
  },
  {
   "cell_type": "code",
   "execution_count": null,
   "id": "55e3e020-3fb0-47b8-9607-edd30237ff58",
   "metadata": {},
   "outputs": [],
   "source": [
    "!pip install tensorflow"
   ]
  },
  {
   "cell_type": "code",
   "execution_count": null,
   "id": "b45879db-2215-4ebe-adf3-83263ec76729",
   "metadata": {},
   "outputs": [],
   "source": [
    "!pip install pandas"
   ]
  },
  {
   "cell_type": "code",
   "execution_count": null,
   "id": "720e0fcb-9fe9-45e2-91cb-acc8fcb0ea88",
   "metadata": {},
   "outputs": [],
   "source": [
    "import pandas as pd\n",
    "\n",
    "articles = pd.read_csv('LeMonde2003_9classes.csv.gz')\n",
    "articles"
   ]
  },
  {
   "cell_type": "code",
   "execution_count": null,
   "id": "50827ff0-65e8-4dd9-8a59-b2102198356f",
   "metadata": {},
   "outputs": [],
   "source": [
    "labels = [\n",
    "    \"politique\",\n",
    "    \"économie\",\n",
    "    \"sport\",\n",
    "    \"culture\",\n",
    "    \"santé\",\n",
    "    \"environnement\",\n",
    "    \"justice\"\n",
    "]"
   ]
  },
  {
   "cell_type": "code",
   "execution_count": null,
   "id": "76041433-ad08-4d9b-abf0-e2f66cecac76",
   "metadata": {},
   "outputs": [],
   "source": [
    "from sklearn.model_selection import train_test_split\n",
    "\n",
    "train, test = train_test_split(articles, test_size=0.2, random_state=42)"
   ]
  },
  {
   "cell_type": "code",
   "execution_count": null,
   "id": "34bd96a5-43ca-48ef-9817-7d8532e75aac",
   "metadata": {},
   "outputs": [],
   "source": [
    "import pandas as pd\n",
    "from transformers import pipeline\n",
    "from tqdm import tqdm\n",
    "\n",
    "\n",
    "\n",
    "\n",
    "labels = [\"politique\", \"économie\", \"santé\", \"culture\", \"sport\", \"justice\", \"environnement\"]\n",
    "batch_size = 32\n",
    "\n",
    "classifier = pipeline(\"zero-shot-classification\", model=\"facebook/bart-large-mnli\")\n",
    "\n",
    "# DataFrame d'entrée (ex. test_df)\n",
    "df = test.copy().reset_index(drop=True)\n",
    "\n",
    "\n",
    "predicted_labels = []\n",
    "\n",
    "\n",
    "for start in tqdm(range(0, len(df), batch_size)):\n",
    "    end = min(start + batch_size, len(df))\n",
    "    batch_texts = df.loc[start:end-1, \"text\"].fillna(\"\").astype(str).str.slice(0, 300).tolist()\n",
    "\n",
    "    for text in batch_texts:\n",
    "        try:\n",
    "            result = classifier(text, labels, multi_label=False)\n",
    "            predicted_labels.append(result[\"labels\"][0])\n",
    "        except Exception as e:\n",
    "            print(f\"Error on text : {text[:50]}... → {e}\")\n",
    "            predicted_labels.append(None)\n",
    "\n",
    "# Ajout dans le DataFrame\n",
    "df[\"predicted_label\"] = predicted_labels\n",
    "\n",
    "# Affichage ou évaluation\n",
    "print(df[[\"text\", \"true_label\", \"predicted_label\"]].head())\n"
   ]
  },
  {
   "cell_type": "code",
   "execution_count": null,
   "id": "342ef55b-eeda-4e43-8ce4-fa35d08d3902",
   "metadata": {},
   "outputs": [],
   "source": [
    "from tqdm.auto import tqdm\n",
    "tqdm.pandas()\n",
    "test['label_predit'] = test['text'].progress_apply(classify_text)"
   ]
  }
 ],
 "metadata": {
  "kernelspec": {
   "display_name": "Python 3 (ipykernel)",
   "language": "python",
   "name": "python3"
  },
  "language_info": {
   "codemirror_mode": {
    "name": "ipython",
    "version": 3
   },
   "file_extension": ".py",
   "mimetype": "text/x-python",
   "name": "python",
   "nbconvert_exporter": "python",
   "pygments_lexer": "ipython3",
   "version": "3.12.9"
  }
 },
 "nbformat": 4,
 "nbformat_minor": 5
}
