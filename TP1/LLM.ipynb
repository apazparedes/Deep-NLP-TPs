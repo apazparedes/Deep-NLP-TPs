{
 "cells": [
  {
   "cell_type": "code",
   "execution_count": null,
   "id": "b95f98bd-d848-4e26-947d-7099a9e89030",
   "metadata": {},
   "outputs": [],
   "source": [
    "!pip install torch"
   ]
  },
  {
   "cell_type": "code",
   "execution_count": null,
   "id": "55e3e020-3fb0-47b8-9607-edd30237ff58",
   "metadata": {},
   "outputs": [],
   "source": [
    "!pip install tensorflow"
   ]
  },
  {
   "cell_type": "code",
   "execution_count": null,
   "id": "b45879db-2215-4ebe-adf3-83263ec76729",
   "metadata": {},
   "outputs": [],
   "source": [
    "!pip install pandas"
   ]
  },
  {
   "cell_type": "code",
   "execution_count": 26,
   "id": "720e0fcb-9fe9-45e2-91cb-acc8fcb0ea88",
   "metadata": {},
   "outputs": [
    {
     "data": {
      "text/html": [
       "<div>\n",
       "<style scoped>\n",
       "    .dataframe tbody tr th:only-of-type {\n",
       "        vertical-align: middle;\n",
       "    }\n",
       "\n",
       "    .dataframe tbody tr th {\n",
       "        vertical-align: top;\n",
       "    }\n",
       "\n",
       "    .dataframe thead th {\n",
       "        text-align: right;\n",
       "    }\n",
       "</style>\n",
       "<table border=\"1\" class=\"dataframe\">\n",
       "  <thead>\n",
       "    <tr style=\"text-align: right;\">\n",
       "      <th></th>\n",
       "      <th>text</th>\n",
       "      <th>category</th>\n",
       "    </tr>\n",
       "  </thead>\n",
       "  <tbody>\n",
       "    <tr>\n",
       "      <th>0</th>\n",
       "      <td>a la boutique du fulham fc nichée au dernier é...</td>\n",
       "      <td>SPO</td>\n",
       "    </tr>\n",
       "    <tr>\n",
       "      <th>1</th>\n",
       "      <td>pour la plupart de ceux qui n'y vivent pas la ...</td>\n",
       "      <td>ART</td>\n",
       "    </tr>\n",
       "    <tr>\n",
       "      <th>2</th>\n",
       "      <td>la perspective d'une enquête judiciaire sur la...</td>\n",
       "      <td>FRA</td>\n",
       "    </tr>\n",
       "    <tr>\n",
       "      <th>3</th>\n",
       "      <td>le tribunal administratif de limoges a annulé ...</td>\n",
       "      <td>SOC</td>\n",
       "    </tr>\n",
       "    <tr>\n",
       "      <th>4</th>\n",
       "      <td>des avions américains et britanniques ont bomb...</td>\n",
       "      <td>INT</td>\n",
       "    </tr>\n",
       "    <tr>\n",
       "      <th>...</th>\n",
       "      <td>...</td>\n",
       "      <td>...</td>\n",
       "    </tr>\n",
       "    <tr>\n",
       "      <th>30160</th>\n",
       "      <td>reçu à la mairie de biarritz à l'occasion d'un...</td>\n",
       "      <td>FRA</td>\n",
       "    </tr>\n",
       "    <tr>\n",
       "      <th>30161</th>\n",
       "      <td>la française malia metella a remporté le titre...</td>\n",
       "      <td>SPO</td>\n",
       "    </tr>\n",
       "    <tr>\n",
       "      <th>30162</th>\n",
       "      <td>1 pourquoi avoir choisi les années 1950 pour k...</td>\n",
       "      <td>ART</td>\n",
       "    </tr>\n",
       "    <tr>\n",
       "      <th>30163</th>\n",
       "      <td>la croix a licencié un journaliste alain herto...</td>\n",
       "      <td>ENT</td>\n",
       "    </tr>\n",
       "    <tr>\n",
       "      <th>30164</th>\n",
       "      <td>résultats globaux inscrits266 134 votants116 9...</td>\n",
       "      <td>FRA</td>\n",
       "    </tr>\n",
       "  </tbody>\n",
       "</table>\n",
       "<p>30165 rows × 2 columns</p>\n",
       "</div>"
      ],
      "text/plain": [
       "                                                    text category\n",
       "0      a la boutique du fulham fc nichée au dernier é...      SPO\n",
       "1      pour la plupart de ceux qui n'y vivent pas la ...      ART\n",
       "2      la perspective d'une enquête judiciaire sur la...      FRA\n",
       "3      le tribunal administratif de limoges a annulé ...      SOC\n",
       "4      des avions américains et britanniques ont bomb...      INT\n",
       "...                                                  ...      ...\n",
       "30160  reçu à la mairie de biarritz à l'occasion d'un...      FRA\n",
       "30161  la française malia metella a remporté le titre...      SPO\n",
       "30162  1 pourquoi avoir choisi les années 1950 pour k...      ART\n",
       "30163  la croix a licencié un journaliste alain herto...      ENT\n",
       "30164  résultats globaux inscrits266 134 votants116 9...      FRA\n",
       "\n",
       "[30165 rows x 2 columns]"
      ]
     },
     "execution_count": 26,
     "metadata": {},
     "output_type": "execute_result"
    }
   ],
   "source": [
    "import pandas as pd\n",
    "\n",
    "articles = pd.read_csv('LeMonde2003_9classes.csv.gz')\n",
    "articles"
   ]
  },
  {
   "cell_type": "code",
   "execution_count": 27,
   "id": "76041433-ad08-4d9b-abf0-e2f66cecac76",
   "metadata": {},
   "outputs": [],
   "source": [
    "from sklearn.model_selection import train_test_split\n",
    "\n",
    "train, test = train_test_split(articles, test_size=0.2, random_state=42)"
   ]
  },
  {
   "cell_type": "code",
   "execution_count": null,
   "id": "34bd96a5-43ca-48ef-9817-7d8532e75aac",
   "metadata": {},
   "outputs": [
    {
     "name": "stderr",
     "output_type": "stream",
     "text": [
      "Device set to use cpu\n",
      "  0%|          | 0/177 [00:00<?, ?it/s]"
     ]
    }
   ],
   "source": [
    "import pandas as pd\n",
    "from transformers import pipeline\n",
    "from tqdm import tqdm\n",
    "\n",
    "batch_size = 32\n",
    "\n",
    "\n",
    "classifier = pipeline(\"zero-shot-classification\", model=\"facebook/bart-large-mnli\")\n",
    "\n",
    "\n",
    "new_data = test[test['category'] != \"UNE\"].copy()\n",
    "new_data.loc[new_data['category'] == 'SOC', 'category'] = 'FRA'\n",
    "new_data = new_data.reset_index(drop=True)\n",
    "\n",
    "\n",
    "category_to_label = {\n",
    "    \"SPO\": \"sport\",\n",
    "    \"ART\": \"art\",\n",
    "    \"FRA\": \"actualité france\",\n",
    "    \"INT\": \"international\",\n",
    "    \"ENT\": \"économie\"\n",
    "}\n",
    "\n",
    "\n",
    "new_data[\"category_explicit\"] = new_data[\"category\"].map(category_to_label)\n",
    "labels = list(category_to_label.values())\n",
    "\n",
    "\n",
    "predicted_labels = []\n",
    "\n",
    "for start in tqdm(range(0, len(new_data), batch_size)):\n",
    "    end = min(start + batch_size, len(new_data))\n",
    "    batch_texts = new_data.loc[start:end-1, \"text\"].fillna(\"\").astype(str).str.slice(0, 300).tolist()\n",
    "\n",
    "    for text in batch_texts:\n",
    "        try:\n",
    "            result = classifier(text, labels, multi_label=False)\n",
    "            predicted_labels.append(result[\"labels\"][0])\n",
    "        except Exception as e:\n",
    "            print(f\"Error on text: {text[:50]}... → {e}\")\n",
    "            predicted_labels.append(None)\n",
    "\n",
    "\n",
    "new_data[\"predicted_label\"] = predicted_labels\n"
   ]
  },
  {
   "cell_type": "code",
   "execution_count": null,
   "id": "fdd15c99-467f-4226-8bea-a0ef23e8209f",
   "metadata": {},
   "outputs": [],
   "source": [
    "from sklearn.metrics import accuracy_score, classification_report\n",
    "\n",
    "\n",
    "mask = new_data[\"category_explicit\"].notna() & new_data[\"predicted_label\"].notna()\n",
    "y_true = new_data.loc[mask, \"category_explicit\"]\n",
    "y_pred = new_data.loc[mask, \"predicted_label\"]\n",
    "\n",
    "\n",
    "acc = accuracy_score(y_true, y_pred)\n",
    "print(f\"\\n Accuracy : {acc:.2f}\\n\")\n",
    "\n",
    "print(\"Classification report :\")\n",
    "print(classification_report(y_true, y_pred, labels=list(category_to_label.values())))\n"
   ]
  }
 ],
 "metadata": {
  "kernelspec": {
   "display_name": "Python 3 (ipykernel)",
   "language": "python",
   "name": "python3"
  },
  "language_info": {
   "codemirror_mode": {
    "name": "ipython",
    "version": 3
   },
   "file_extension": ".py",
   "mimetype": "text/x-python",
   "name": "python",
   "nbconvert_exporter": "python",
   "pygments_lexer": "ipython3",
   "version": "3.12.9"
  }
 },
 "nbformat": 4,
 "nbformat_minor": 5
}
