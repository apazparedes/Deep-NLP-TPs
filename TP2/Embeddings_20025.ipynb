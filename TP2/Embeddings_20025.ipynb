{
 "cells": [
  {
   "cell_type": "markdown",
   "metadata": {},
   "source": [
    "#  NLP-lab :  Word embeddings\n",
    "\n",
    "In this series of exercises, we will explore three word embeddings:\n",
    "\n",
    "* [Collobert & Weston](http://www.jmlr.org/papers/volume12/collobert11a/collobert11a.pdf) https://ronan.collobert.com/senna/\n",
    "* [Word2Vec](https://arxiv.org/abs/1301.3781)\n",
    "* [BERT](https://huggingface.co/bert-base-uncased) \n",
    "\n",
    "\n",
    "In the code already provided, add your code to the place indicated by `YOUR CODE HERE`.\n",
    "\n",
    "**Important** : do NOT commit the data and embedding files in your repository git : it is a waste of resources and it takes more time to clone.\n",
    "> Use https://docs.github.com/en/get-started/getting-started-with-git/ignoring-files\n"
   ]
  },
  {
   "cell_type": "code",
   "execution_count": 1,
   "metadata": {},
   "outputs": [],
   "source": [
    "# basic imports\n",
    "import os\n",
    "import matplotlib.pyplot as plt\n",
    "# display matplotlib graphics in notebook\n",
    "%matplotlib inline \n",
    "import seaborn as sns\n",
    "\n",
    "# disable warnings for libraries\n",
    "import warnings\n",
    "warnings.filterwarnings(\"ignore\")\n",
    "\n",
    "# configure logger\n",
    "import logging\n",
    "logging.basicConfig(format='%(asctime)s %(levelname)s:%(message)s', level=logging.INFO, datefmt='%I:%M:%S')\n",
    "logger = logging.getLogger(__name__)\n"
   ]
  },
  {
   "cell_type": "markdown",
   "metadata": {},
   "source": [
    "###  Embeddings exploration with Collobert's embeddings\n",
    "\n",
    "Upload the files containing the embeddings to `data`:\n",
    "* Collobert (size 50): [collobert_embeddings.txt.zip](https://storage.teklia.com/shared/deepnlp-labs/collobert_embeddings.txt.zip) which contains the embedding vectors and [collobert_words.lst](https://storage.teklia.com/shared/deepnlp-labs/collobert_words.lst) which contains the associated words;\n",
    "\n",
    "You need to unzip the files to load them.\n",
    "\n",
    "Feel free to open the files to see what they contain (it's sometimes surprising).\n",
    "\n",
    "#### Question: \n",
    ">* Add the files to your .gitignore\n",
    ">* Give the size in Mb of the embeddings files before unzipping.\n",
    ">* By exploring the content of the embedding files, give the number of words for which these files provide embeddings.\n",
    "\n"
   ]
  },
  {
   "cell_type": "code",
   "execution_count": 2,
   "metadata": {},
   "outputs": [
    {
     "name": "stdout",
     "output_type": "stream",
     "text": [
      "Size of zipped file: 23.705443382263184\n",
      "Number of words with embeddings : 130000\n"
     ]
    }
   ],
   "source": [
    "import os\n",
    "import zipfile\n",
    "\n",
    "zip_file = \"collobert_embeddings.txt.zip\"\n",
    "extract_path = \"data\"\n",
    "\n",
    "zip_size_mb = os.path.getsize(zip_file) / (1024 * 1024)\n",
    "print(\"Size of zipped file:\", zip_size_mb)\n",
    "\n",
    "with zipfile.ZipFile(zip_file, 'r') as zip_ref:\n",
    "    zip_ref.extractall(extract_path)\n",
    "\n",
    "words_file = os.path.join(extract_path, \"collobert_words.lst\")\n",
    "\n",
    "\n",
    "with open(words_file, \"r\", encoding=\"utf-8\") as f:\n",
    "    num_words = sum(1 for _ in f)\n",
    "\n",
    "print(\"Number of words with embeddings :\",num_words)\n"
   ]
  },
  {
   "cell_type": "code",
   "execution_count": 3,
   "metadata": {},
   "outputs": [],
   "source": [
    "gitignore_path = \".gitignore\"\n",
    "ignore_entries = [\"data/collobert_embeddings.txt\", \"data/collobert_words.lst\"]\n",
    "\n",
    "with open(gitignore_path, \"w\", encoding=\"utf-8\") as gitignore:\n",
    "    for entry in ignore_entries:\n",
    "        gitignore.write(f\"{entry}\\n\")\n"
   ]
  },
  {
   "cell_type": "markdown",
   "metadata": {},
   "source": [
    "### List of closest words\n",
    "\n",
    "The aim of this exercise is to list the closest words to a given word for the Collobert embedding. First, we'll load the vectors of the Collobert embedding into a numpy array and the associated words into a python list. Then we'll use the [scipy KDTree](https://docs.scipy.org/doc/scipy/reference/generated/scipy.spatial.KDTree.html) data structure to quickly search for the vectors closest to a series of words.\n",
    "\n",
    "\n",
    "#### Question: \n",
    ">* load embedding vectors from the file `data/collobert_embeddings.txt` using the numpy function [genfromtxt](https://numpy.org/doc/stable/reference/generated/numpy.genfromtxt.html)\n",
    ">* load the words associated with the vectors from the `data/collobert_words.lst` file into a python list (using `open()` and `readlines()`)\n",
    ">* check that the sizes are correct\n"
   ]
  },
  {
   "cell_type": "code",
   "execution_count": 4,
   "metadata": {},
   "outputs": [
    {
     "name": "stdout",
     "output_type": "stream",
     "text": [
      "130000\n"
     ]
    }
   ],
   "source": [
    "import numpy as np\n",
    "\n",
    "embedding_vectors = np.genfromtxt('data/collobert_embeddings.txt')\n",
    "\n",
    "with open(\"data/collobert_words.lst\", \"r\", encoding=\"utf-8\") as f:\n",
    "    words = [line.strip() for line in f.readlines()]\n",
    "\n",
    "print(len(words))\n"
   ]
  },
  {
   "cell_type": "markdown",
   "metadata": {},
   "source": [
    "KD trees are a very efficient data structure for storing large sets of points in a multi-dimensional space and performing very efficient nearest-neighbour searches. \n",
    "\n",
    "#### Question \n",
    "> * Initialise the [KDTree](https://docs.scipy.org/doc/scipy/reference/generated/scipy.spatial.KDTree.html) structure with Collobert's embedding vectors.\n",
    "> * Using the [tree.query](https://docs.scipy.org/doc/scipy/reference/generated/scipy.spatial.KDTree.query.html#scipy.spatial.KDTree.query) function, display the 5 nearest words for the following words: ‘mother’, ‘computer’, ‘dentist’, ‘war’, ‘president’, ‘secretary’, ‘nurse’.  *Hint: you can use the function `collobert_words.index(w)` to obtain the index of a word in the list of words*.\n",
    "> * Create a `words_plus_neighbors` list containing the words and all their neighbours (for the next question)"
   ]
  },
  {
   "cell_type": "code",
   "execution_count": 5,
   "metadata": {},
   "outputs": [
    {
     "name": "stdout",
     "output_type": "stream",
     "text": [
      "Nearest neighbors to 'mother': ['daughter', 'wife', 'father', 'husband', 'son']\n",
      "Nearest neighbors to 'computer': ['laptop', 'multimedia', 'desktop', 'software', 'wiki']\n",
      "Nearest neighbors to 'dentist': ['pharmacist', 'midwife', 'physician', 'housekeeper', 'veterinarian']\n",
      "Nearest neighbors to 'war': ['revolution', 'death', 'court', 'independence', 'history']\n",
      "Nearest neighbors to 'president': ['governor', 'chairman', 'mayor', 'secretary', 'senator']\n",
      "Nearest neighbors to 'secretary': ['minister', 'treasurer', 'chairman', 'commissioner', 'undersecretary']\n",
      "Nearest neighbors to 'nurse': ['physician', 'veterinarian', 'dentist', 'surgeon', 'midwife']\n",
      "['mother', 'daughter', 'wife', 'father', 'husband', 'son', 'computer', 'laptop', 'multimedia', 'desktop', 'software', 'wiki', 'dentist', 'pharmacist', 'midwife', 'physician', 'housekeeper', 'veterinarian', 'war', 'revolution', 'death', 'court', 'independence', 'history', 'president', 'governor', 'chairman', 'mayor', 'secretary', 'senator', 'secretary', 'minister', 'treasurer', 'chairman', 'commissioner', 'undersecretary', 'nurse', 'physician', 'veterinarian', 'dentist', 'surgeon', 'midwife']\n"
     ]
    }
   ],
   "source": [
    "from scipy import spatial\n",
    "from scipy.spatial import KDTree\n",
    "\n",
    "tree = KDTree(embedding_vectors)\n",
    "query_words = ['mother', 'computer', 'dentist', 'war', 'president', 'secretary', 'nurse']\n",
    "\n",
    "words_plus_neighbors = []\n",
    "\n",
    "for word in query_words:\n",
    "    if word in words:\n",
    "        words_plus_neighbors.append(word)\n",
    "        i=words.index(word)\n",
    "        distances, indices = tree.query(embedding_vectors[i], k=6)\n",
    "        nearest_neighbors = [words[j] for j in indices if j!= i]\n",
    "        print(f\"Nearest neighbors to '{word}': {nearest_neighbors}\")\n",
    "        for j in indices:\n",
    "            if j!= i:\n",
    "                words_plus_neighbors.append(words[j])\n",
    "    \n",
    "    else:\n",
    "        print(f\"'{word}' not found in the vocabulary!\")\n",
    "\n",
    "print(words_plus_neighbors)\n"
   ]
  },
  {
   "cell_type": "markdown",
   "metadata": {},
   "source": [
    "### Visualisation with T-SNE\n",
    "\n",
    "Embeddings are vectors with several hundred dimensions. It is therefore not possible to display them in their original space. However, it is possible to apply dimension reduction algorithms to display them in 2 or 3 dimensions. One of the dimension reduction algorithms allowing 2D visualisation is [tSNE](https://en.wikipedia.org/wiki/T-distributed_stochastic_neighbor_embedding). \n",
    "\n",
    "#### Question\n",
    "> * Create a `word_vectors` object of type `np.array` from a list containing all the embeddings of the words in the `words_plus_neighbors` list.\n",
    "> * Create a tSNE object from the `from sklearn.manifold import TSNE` library with the parameters `random_state=0`, `n_iter=2000` and `perplexity=15.0` for a 2-dimensional view.\n",
    "> * Calculate *T* the tSNE transformation of the `word_vectors` by applying function `.fit_transform(word_vectors)` to the tSNE object. This function estimates the parameters of the tSNE transformation and returns the reduced-dimension representation of the vectors used for estimation.\n",
    "> * Use the `scatterplot` function from [seaborn](https://seaborn.pydata.org/generated/seaborn.scatterplot.html) to represent points in 2 dimensions and add word labels using the `plt.annotate` function."
   ]
  },
  {
   "cell_type": "code",
   "execution_count": 6,
   "metadata": {},
   "outputs": [
    {
     "data": {
      "image/png": "[encoded data removed]",
      "text/plain": [
       "<Figure size 640x480 with 1 Axes>"
      ]
     },
     "metadata": {},
     "output_type": "display_data"
    }
   ],
   "source": [
    "word_vectors=np.array([embedding_vectors[words.index(word)] for word in words_plus_neighbors])\n",
    "\n",
    "from sklearn.manifold import TSNE\n",
    "\n",
    "T = TSNE(n_components=2, random_state=0, n_iter=2000, perplexity=15.0).fit_transform(word_vectors)\n",
    "\n",
    "\n",
    "import matplotlib.pyplot as plt\n",
    "%matplotlib inline \n",
    "import seaborn as sns\n",
    "\n",
    "fig = plt.figure()\n",
    "fig.patch.set_facecolor('#f9f9f9')\n",
    "\n",
    "sns.set(rc={'figure.figsize':(14, 8)})\n",
    "sns.set(font_scale=1)\n",
    "\n",
    "sns.scatterplot(x=T[:, 0], y=T[:, 1])\n",
    "\n",
    "for label, x, y in zip(words_plus_neighbors, T[:, 0], T[:, 1]):\n",
    "    plt.annotate(label, xy=(x+1, y+1), xytext=(0, 0), textcoords='offset points')\n",
    "\n"
   ]
  },
  {
   "cell_type": "markdown",
   "metadata": {},
   "source": [
    "### Semantic arithmetic with Word2Vec\n",
    "\n",
    "One of the most original properties of Word2Vec embeddings is that the semantic relationships between vectors can be modelled by arithmetic operations. Given vectors representing the words `king`, `man` and `woman`, it is possible to compute the vector `v` as :  \n",
    "\n",
    "`v = vector(king)-vector(man)+vector(woman)`\n",
    "\n",
    "This operation corresponds to the following semantic relationship: *The king is to the man what the queen is to the woman*, which translates into the following arithmetic: *the concept of king, minus the concept of man plus the concept of woman gives the concept of queen*.\n",
    "\n",
    "In fact, if we look in the embedding for the word whose closest vector is `v`, we find `reine`.\n",
    "\n",
    "\n",
    "We will use a Word2Vec model pre-trained on the French Wac corpus.  This model has been trained on a corpus of 1 billion French words. \n",
    "\n",
    "This embedding is available in 2 formats:\n",
    "- a text format for easy exploration of the model :\n",
    "    - frWac_non_lem_no_postag_no_phrase_200_cbow_cut100.txt](https://storage.teklia.com/shared/deepnlp-labs/frWac_non_lem_no_postag_no_phrase_200_cbow_cut100.txt)\n",
    "- a binary format that can be loaded using the Gensim library: \n",
    "    - [enWac_non_lem_no_postag_no_phrase_200_cbow_cut100.bin](https://storage.teklia.com/shared/deepnlp-labs/frWac_non_lem_no_postag_no_phrase_200_cbow_cut100.bin)\n",
    "\n",
    "Download the text file onto your machine to analyse it.\n",
    "\n",
    "#### Question: \n",
    ">* Add the file to your .gitignore\n",
    ">* Give the size in Mb of the embedding files\n",
    ">* By exploring the contents of the embedding file in text format, give the number of words for which this model provides embeddings and the size of the embedding for each word.\n",
    "\n"
   ]
  },
  {
   "cell_type": "markdown",
   "metadata": {},
   "source": [
    "YOUR ANSWER HERE"
   ]
  },
  {
   "cell_type": "markdown",
   "metadata": {},
   "source": [
    "#### Word similarity\n",
    "\n",
    "We are now going to use the [Gensim] library (https://radimrehurek.com/gensim/) to load the Word2Vec model and use it. \n",
    "\n",
    "#### Question: \n",
    ">* Modify the following code to load the Word2Vec template file in binary format using [load_word2vec](https://radimrehurek.com/gensim/models/keyedvectors.html#how-to-obtain-word-vectors)\n",
    ">* Choose a couple of words and find the closest words according to the model using [most_similar](https://radimrehurek.com/gensim/models/keyedvectors.html#gensim.models.keyedvectors.KeyedVectors.most_similar)\n",
    ">* To guess the meaning of the words ‘yokohama’, ‘kanto’ and ‘shamisen’, look for their nearest neighbours. Explain the results.\n"
   ]
  },
  {
   "cell_type": "code",
   "execution_count": 7,
   "metadata": {},
   "outputs": [
    {
     "name": "stderr",
     "output_type": "stream",
     "text": [
      "01:21:21 INFO:loading projection weights from data/frWac_non_lem_no_postag_no_phrase_200_cbow_cut100.bin\n",
      "01:21:22 INFO:KeyedVectors lifecycle event {'msg': 'loaded (155562, 200) matrix of type float32 from data/frWac_non_lem_no_postag_no_phrase_200_cbow_cut100.bin', 'binary': True, 'encoding': 'utf8', 'datetime': '2025-03-10T13:21:22.634355', 'gensim': '4.3.3', 'python': '3.12.7 | packaged by conda-forge | (main, Oct  4 2024, 16:05:46) [GCC 13.3.0]', 'platform': 'Linux-6.1.0-30-amd64-x86_64-with-glibc2.35', 'event': 'load_word2vec_format'}\n"
     ]
    },
    {
     "data": {
      "text/plain": [
       "[('commandeur', 0.6844523549079895),\n",
       " ('chevaliers', 0.6799763441085815),\n",
       " ('écuyer', 0.6333731412887573),\n",
       " ('grand-croix', 0.621898353099823),\n",
       " ('preux', 0.6011075377464294),\n",
       " ('chevalerie', 0.5404021143913269),\n",
       " ('légion', 0.5335969924926758),\n",
       " ('honneur', 0.4953608810901642),\n",
       " ('yvain', 0.4855087101459503),\n",
       " ('insignes', 0.4742659330368042)]"
      ]
     },
     "execution_count": 7,
     "metadata": {},
     "output_type": "execute_result"
    }
   ],
   "source": [
    "from gensim.models import KeyedVectors\n",
    "\n",
    "\n",
    "embedding_file =\"data/frWac_non_lem_no_postag_no_phrase_200_cbow_cut100.bin\"\n",
    "model = KeyedVectors.load_word2vec_format(embedding_file, binary=True, unicode_errors=\"ignore\")\n",
    "\n",
    "model.most_similar(\"chevalier\")"
   ]
  },
  {
   "cell_type": "markdown",
   "metadata": {},
   "source": [
    "#### Semantic arithmetic\n",
    "\n",
    "One of the most original properties of Word2Vec embeddings is that the semantic relationships between vectors can be modelled by arithmetic operations. Given vectors representing the words `king`, `man` and `woman`, it is possible to compute the vector `v` as :  \n",
    "\n",
    "`v = vector(king)-vector(man)+vector(woman)`\n",
    "\n",
    "This operation corresponds to the following semantic relationship: *The king is to the man what the queen is to the woman*, which translates into the following arithmetic: *the concept of king, minus the concept of man plus the concept of woman gives the concept of queen*.\n",
    "\n",
    "In fact, if we look in the embedding for the word whose closest vector is `v`, we find `reine`.\n",
    "\n",
    "#### Question: \n",
    ">* using the function [most_similar](https://radimrehurek.com/gensim/models/keyedvectors.html#gensim.models.keyedvectors.KeyedVectors.most_similar) specifying the arguments `positive` for the vectors to be added and `negative` for the vectors to be subtracted, check the relationship *the concept of king, minus the concept of man plus the concept of woman gives the concept of queen*.\n",
    ">* Using the same method, find XXX in the following semantic relations\n",
    ">   * Paris is to France what XXX is to Japan.\n",
    ">   * Chevalier is to France what XXX is to Japan."
   ]
  },
  {
   "cell_type": "code",
   "execution_count": 8,
   "metadata": {},
   "outputs": [
    {
     "name": "stdout",
     "output_type": "stream",
     "text": [
      "jessica: 0.4226\n",
      "harper: 0.4182\n",
      "pamela: 0.4095\n",
      "burr: 0.3907\n",
      "maggie: 0.3563\n",
      "kathleen: 0.3411\n",
      "connolly: 0.3383\n",
      "dixon: 0.3348\n",
      "macdonald: 0.3339\n",
      "horse: 0.3335\n"
     ]
    }
   ],
   "source": [
    "result = model.most_similar(positive=['king', 'woman'], negative=['man'])\n",
    "\n",
    "for word, similarity in result:\n",
    "    print(f\"{word}: {similarity:.4f}\")\n",
    "\n"
   ]
  },
  {
   "cell_type": "code",
   "execution_count": 9,
   "metadata": {},
   "outputs": [
    {
     "name": "stdout",
     "output_type": "stream",
     "text": [
      "tokyo: 0.6542\n",
      "tôkyô: 0.6188\n",
      "osaka: 0.5414\n",
      "japonaise: 0.5376\n",
      "nagoya: 0.5211\n",
      "yokohama: 0.5118\n",
      "ueno: 0.5108\n",
      "kyôto: 0.5067\n",
      "japonais: 0.5056\n",
      "shinjuku: 0.4977\n"
     ]
    }
   ],
   "source": [
    "result=model.most_similar(positive=['paris','japon'],negative=['france'])\n",
    "\n",
    "for word, similarity in result:\n",
    "    print(f\"{word}: {similarity:.4f}\")\n"
   ]
  },
  {
   "cell_type": "code",
   "execution_count": 10,
   "metadata": {},
   "outputs": [
    {
     "name": "stdout",
     "output_type": "stream",
     "text": [
      "samouraï: 0.5617\n",
      "samouraïs: 0.5009\n",
      "edo: 0.4938\n",
      "japonaise: 0.4860\n",
      "chevaliers: 0.4827\n",
      "nihon: 0.4734\n",
      "kamakura: 0.4688\n",
      "kobayashi: 0.4676\n",
      "abe: 0.4654\n",
      "samurai: 0.4631\n"
     ]
    }
   ],
   "source": [
    "result=model.most_similar(positive=['chevalier','japon'],negative=['france'])\n",
    "\n",
    "for word, similarity in result:\n",
    "    print(f\"{word}: {similarity:.4f}\")"
   ]
  },
  {
   "cell_type": "markdown",
   "metadata": {},
   "source": [
    "## Contextual embeddings with BERT \n",
    "\n",
    "BERT was one of the first freely available Transformer language models, trained on large corpora. Many other models are available on HuggingFace.\n",
    "\n",
    "As BERT is a contextual model, it is necessary to have it predict whole sentences in order to study the word embeddings it produces. In this section, we will compare the embeddings obtained for polysemous words according to the sentence in which they are used.\n",
    "\n",
    "In English, *plant* has two meanings: plant and vegetable. With a non-contextual embedding, such as Glove or Colobert, these two meanings of the word plus are associated with an identical embedding. With BERT, we'll see that the same word can have several embeddings depending on the context.\n",
    "\n",
    "First, load the BERT model and tokenizer from HuggingFace : "
   ]
  },
  {
   "cell_type": "code",
   "execution_count": 13,
   "metadata": {},
   "outputs": [
    {
     "data": {
      "text/plain": [
       "BertModel(\n",
       "  (embeddings): BertEmbeddings(\n",
       "    (word_embeddings): Embedding(30522, 768, padding_idx=0)\n",
       "    (position_embeddings): Embedding(512, 768)\n",
       "    (token_type_embeddings): Embedding(2, 768)\n",
       "    (LayerNorm): LayerNorm((768,), eps=1e-12, elementwise_affine=True)\n",
       "    (dropout): Dropout(p=0.1, inplace=False)\n",
       "  )\n",
       "  (encoder): BertEncoder(\n",
       "    (layer): ModuleList(\n",
       "      (0-11): 12 x BertLayer(\n",
       "        (attention): BertAttention(\n",
       "          (self): BertSdpaSelfAttention(\n",
       "            (query): Linear(in_features=768, out_features=768, bias=True)\n",
       "            (key): Linear(in_features=768, out_features=768, bias=True)\n",
       "            (value): Linear(in_features=768, out_features=768, bias=True)\n",
       "            (dropout): Dropout(p=0.1, inplace=False)\n",
       "          )\n",
       "          (output): BertSelfOutput(\n",
       "            (dense): Linear(in_features=768, out_features=768, bias=True)\n",
       "            (LayerNorm): LayerNorm((768,), eps=1e-12, elementwise_affine=True)\n",
       "            (dropout): Dropout(p=0.1, inplace=False)\n",
       "          )\n",
       "        )\n",
       "        (intermediate): BertIntermediate(\n",
       "          (dense): Linear(in_features=768, out_features=3072, bias=True)\n",
       "          (intermediate_act_fn): GELUActivation()\n",
       "        )\n",
       "        (output): BertOutput(\n",
       "          (dense): Linear(in_features=3072, out_features=768, bias=True)\n",
       "          (LayerNorm): LayerNorm((768,), eps=1e-12, elementwise_affine=True)\n",
       "          (dropout): Dropout(p=0.1, inplace=False)\n",
       "        )\n",
       "      )\n",
       "    )\n",
       "  )\n",
       "  (pooler): BertPooler(\n",
       "    (dense): Linear(in_features=768, out_features=768, bias=True)\n",
       "    (activation): Tanh()\n",
       "  )\n",
       ")"
      ]
     },
     "execution_count": 13,
     "metadata": {},
     "output_type": "execute_result"
    }
   ],
   "source": [
    "import torch\n",
    "from transformers import BertTokenizer, BertModel\n",
    "tokenizer = BertTokenizer.from_pretrained('bert-base-uncased')\n",
    "# Load pre-trained model \n",
    "model = BertModel.from_pretrained('bert-base-uncased',\n",
    "                                  output_hidden_states = True, # to access the hidden states\n",
    "                                  )\n",
    "# set the model to \"evaluation\" mode\n",
    "model.eval()"
   ]
  },
  {
   "cell_type": "markdown",
   "metadata": {},
   "source": [
    "### Tokenizer\n",
    "\n",
    "Language models are trained with a specific breakdown of sentences into tokens. These tokens can be words or parts of words. It is necessary to use the tokenizer corresponding to each model.\n",
    "\n",
    "tokenizer.vocab.keys() gives the list of all the tokens known for the language model. \n",
    "\n",
    "#### Question\n",
    ">* How many different tokens are known to the BERT tokenizer?\n",
    ">* Display a hundred tokens at random. What do you find?"
   ]
  },
  {
   "cell_type": "code",
   "execution_count": 23,
   "metadata": {},
   "outputs": [
    {
     "name": "stdout",
     "output_type": "stream",
     "text": [
      "30522\n",
      "['kathleen', 'josie', 'baroque', '葉', 'somber', 'bismarck', 'flavour', 'biology', 'growth', '[unused913]', 'viola', 'sits', '##economic', 'witch', 'fallen', 'biographies', 'cane', 'fiji', 'additions', 'sunday', 'corners', 'joao', 'fragments', 'wiping', 'copper', '##द', 'jump', 'haired', 'bursts', '327', '##ph', 'valiant', 'maternity', '##f', 'literally', 'troupe', 'roy', 'claus', '##tf', 'nonsense', 'roster', 'valued', 'slide', '手', 'wrapped', '##nier', 'ɑ', 'automated', 'grumbled', '[unused292]', 'cromwell', 'linguistics', 'nikolay', '##lation', 'notably', '##rce', 'africa', 'unitary', 'charlton', 'precursor', 'other', '##ifies', 'writer', '[unused326]', 'dusseldorf', '門', 'guerrero', 'amar', '400', 'overall', '##mite', 'roman', 'grains', 'eventually', 'beta', 'graduates', '##els', 'commentator', '##isto', '平', 'defendants', '[unused484]', '##iche', 'enabled', 'bce', '[unused146]', '##rned', 'উ', '##veda', '##anto', '##rice', 'midland', 'either', 'interlude', '##tang', 'arcadia', '##ulf', 'info', '[unused121]', 'multiple']\n"
     ]
    }
   ],
   "source": [
    "import random\n",
    "# number of token in tokenizer\n",
    "print(len(tokenizer.vocab))\n",
    "\n",
    "# sample of 100 tokens\n",
    "import random\n",
    "vocab_list = list(tokenizer.vocab.keys())\n",
    "sample_tokens = random.sample(vocab_list, 100)\n",
    "print(sample_tokens)\n"
   ]
  },
  {
   "cell_type": "markdown",
   "metadata": {},
   "source": [
    "The tokenizer splits sentences and transforms the elements (words or sub-words) into clues. \n",
    "\n",
    "BERT can process several sentences, but you need to tell it how the sentences (segments) have been split, with an index: 0 for the first sentence, 1 for the second. \n",
    "\n",
    "Two specific tokens must also be added: \n",
    "* CLS], a specific token used for sentence classification\n",
    "* SEP], the end of sentence token.\n",
    "\n",
    "#### Question\n",
    ">* Apply the bert_tokenize function to the 3 phases and keep the 3 vectors (index, token, segment).\n",
    ">* Display this information for each of the sentences and check that the word *plant* has the same token index in the two sentences in which it appears."
   ]
  },
  {
   "cell_type": "code",
   "execution_count": 27,
   "metadata": {},
   "outputs": [
    {
     "name": "stdout",
     "output_type": "stream",
     "text": [
      "([101, 1996, 3269, 2038, 2584, 2049, 29160, 2504, 1997, 2537, 1012, 102], ['[CLS]', 'the', 'plant', 'has', 'reached', 'its', 'maximal', 'level', 'of', 'production', '.', '[SEP]'], [1, 1, 1, 1, 1, 1, 1, 1, 1, 1, 1, 1])\n",
      "([101, 1996, 3765, 2024, 9240, 2503, 1996, 4713, 1012, 102], ['[CLS]', 'the', 'cars', 'are', 'assembled', 'inside', 'the', 'factory', '.', '[SEP]'], [1, 1, 1, 1, 1, 1, 1, 1, 1, 1])\n",
      "([101, 1037, 3269, 3791, 9325, 1998, 2300, 2000, 4982, 2092, 1012, 102], ['[CLS]', 'a', 'plant', 'needs', 'sunlight', 'and', 'water', 'to', 'grow', 'well', '.', '[SEP]'], [1, 1, 1, 1, 1, 1, 1, 1, 1, 1, 1, 1])\n"
     ]
    }
   ],
   "source": [
    "snt1 = \"The plant has reached its maximal level of production.\"\n",
    "snt2 = \"The cars are assembled inside the factory.\"\n",
    "snt3 = \"A plant needs sunlight and water to grow well.\"\n",
    "\n",
    "\n",
    "def bert_tokenize(snt):\n",
    "    \"\"\" Apply the BERT tokenizer to a list of words representing a sentence\n",
    "        and return 3 lists: \n",
    "        - list of token indx\n",
    "        - list of token for debugging, not used by the BERT model\n",
    "        - list of sentence index\n",
    "        \"\"\"\n",
    "    # Add the special tokens.\n",
    "    tagged_snt = \"[CLS] \" + snt + \" [SEP]\" \n",
    "    # Tokenize\n",
    "    tokenized_snt = tokenizer.tokenize(tagged_snt)\n",
    "    # convert tokens to indices\n",
    "    indexed_snt = tokenizer.convert_tokens_to_ids(tokenized_snt)\n",
    "    # mark the words in sentence.\n",
    "    segments_ids = [1] * len(tokenized_snt)\n",
    "\n",
    "    return (indexed_snt, tokenized_snt, segments_ids)\n",
    "\n",
    "bert1=bert_tokenize(snt1)\n",
    "bert2=bert_tokenize(snt2)\n",
    "bert3=bert_tokenize(snt3)\n",
    "\n",
    "print(bert1)\n",
    "print(bert2)\n",
    "print(bert3)\n"
   ]
  },
  {
   "cell_type": "markdown",
   "metadata": {},
   "source": [
    "## Inference\n",
    "\n",
    "To calculate embeddings, we need to make a prediction using the BERT model on a complete sentence. The *predict_hidden* function converts the token and segment index lists into a pytorch tensor and applies the model. \n",
    "\n",
    "The model used is a 12-layer model. We will use the last hidden layer of the model as an embedding to represent the words. Other solutions are possible, such as concatenation or averaging of several layers.\n",
    "\n",
    "\n",
    "#### Question\n",
    ">* Apply the model to each of the 3 sentences and store the resulting embeddings (tensors).\n",
    ">* Display the dimension of the resulting tensors. What is the dimension of the embedding vector for each word?"
   ]
  },
  {
   "cell_type": "code",
   "execution_count": 31,
   "metadata": {},
   "outputs": [
    {
     "name": "stdout",
     "output_type": "stream",
     "text": [
      "tensor([[-0.2730, -0.0401, -0.0087,  ..., -0.3835,  0.1893,  0.0809],\n",
      "        [-0.1191, -0.2259, -0.8017,  ..., -0.3494,  0.5133, -0.7490],\n",
      "        [ 0.5202, -0.2841, -0.2980,  ..., -0.6205, -0.1511, -0.9107],\n",
      "        ...,\n",
      "        [ 0.2500,  0.1340,  0.0410,  ..., -0.4000,  0.0450, -0.7907],\n",
      "        [ 0.4415, -0.2433, -0.1753,  ..., -0.2945, -0.5181, -0.8389],\n",
      "        [-1.0901,  0.0216, -0.2667,  ..., -0.2196,  0.1241, -0.5802]])\n",
      "tensor([[-0.0145,  0.4020,  0.2586,  ..., -0.4724,  0.1869,  0.2653],\n",
      "        [ 0.0858, -0.2376, -0.2734,  ..., -0.2199,  0.7168, -0.3037],\n",
      "        [ 0.3866,  0.2665,  0.4228,  ..., -1.0032, -0.2140, -0.3934],\n",
      "        ...,\n",
      "        [ 1.0249,  0.2672, -0.0731,  ..., -0.2652, -0.0871, -0.3495],\n",
      "        [ 0.4317, -0.0101, -0.4196,  ..., -0.0835, -0.4654, -0.4686],\n",
      "        [-0.5122,  0.3351,  0.8979,  ..., -0.8968,  0.0118, -0.7879]])\n",
      "tensor([[ 0.0080,  0.0374, -0.3021,  ..., -0.2994, -0.1649,  0.7815],\n",
      "        [ 0.2121,  0.3070, -0.1228,  ...,  0.0039, -0.0809,  1.3490],\n",
      "        [ 0.5861, -0.5453,  0.0905,  ..., -0.3307, -0.4782, -0.3231],\n",
      "        ...,\n",
      "        [ 0.4774,  0.3721, -0.1870,  ..., -0.2806, -0.2479,  0.1407],\n",
      "        [ 1.0029,  0.0834, -0.4043,  ...,  0.1931, -0.6060, -0.3000],\n",
      "        [ 1.0806,  0.0825,  0.2002,  ...,  0.4059, -0.6977, -0.2348]])\n",
      "Shape of predict_hidden1: torch.Size([12, 768])\n",
      "Shape of predict_hidden2: torch.Size([10, 768])\n",
      "Shape of predict_hidden3: torch.Size([12, 768])\n",
      "Embedding dimension per word: 768\n"
     ]
    }
   ],
   "source": [
    "\n",
    "def predict_hidden(indexed_snt, segments_ids):\n",
    "    \"\"\"Apply the BERT model to the input token indices and segment indices\n",
    "        and return the last hidden layer\n",
    "    \"\"\"\n",
    "    with torch.no_grad():\n",
    "        # Convert inputs to PyTorch tensors\n",
    "        tokens_tensor = torch.tensor([indexed_snt])\n",
    "        segments_tensors = torch.tensor([segments_ids])\n",
    "        outputs = model(tokens_tensor, segments_tensors)\n",
    "        hidden_states = outputs[2]\n",
    "        one_hidden_layer = hidden_states[12][0]\n",
    "        \n",
    "    return one_hidden_layer\n",
    "\n",
    "# YOUR CODE HERE\n",
    "\n",
    "predict_hidden1=predict_hidden(bert1[0],bert1[2])\n",
    "predict_hidden2=predict_hidden(bert2[0],bert2[2])\n",
    "predict_hidden3=predict_hidden(bert3[0],bert3[2])\n",
    "\n",
    "print(predict_hidden1)\n",
    "print(predict_hidden2)\n",
    "print(predict_hidden3)\n",
    "\n",
    "\n",
    "print(\"Shape of predict_hidden1:\", predict_hidden1.shape)\n",
    "print(\"Shape of predict_hidden2:\", predict_hidden2.shape)\n",
    "print(\"Shape of predict_hidden3:\", predict_hidden3.shape)\n",
    "\n",
    "embedding_dim = predict_hidden1.shape[-1]\n",
    "print(f\"Embedding dimension per word: {embedding_dim}\")"
   ]
  },
  {
   "cell_type": "markdown",
   "metadata": {},
   "source": [
    "The hidden layer returned by the *predict_hidden* function is a tensor containing a context vector representing each token in the input sentence. We can use this vector to represent the meaning of this word as a function of its context. We're going to compare the representation of the polysemous word *plant* as a function of its context.\n",
    "\n",
    "#### Question\n",
    ">* Using the [cosine distance](https://docs.scipy.org/doc/scipy/reference/generated/scipy.spatial.distance.cosine.html), calculate the following distances:\n",
    "> * distance between *plant* in sentence 1 (plant-factory) and *plant* in sentence 3 (plant-vegetal)\n",
    "> * distance between *plant* in sentence 1 (plant-factory) and *factory* in sentence 2 (plant-vegetal) \n",
    "> * distance between *plant* in sentence 1 (plant-factory) and *production* in sentence 2 \n",
    "> distance between *plant* in sentence 3 (plant-vegetal) and *production* in sentence 2 \n",
    "> How can we interpret these distances?"
   ]
  },
  {
   "cell_type": "code",
   "execution_count": 35,
   "metadata": {},
   "outputs": [
    {
     "name": "stdout",
     "output_type": "stream",
     "text": [
      "0.49866268289601545\n",
      "0.3122568902677052\n",
      "0.636039669235764\n",
      "0.8250078223575488\n"
     ]
    }
   ],
   "source": [
    "from scipy.spatial.distance import cosine\n",
    "\n",
    "def get_word_vector(word, tokenized_sentence, hidden_layer):\n",
    "        word_index = tokenized_sentence.index(word)\n",
    "        return hidden_layer[word_index].numpy()\n",
    "    \n",
    "plant1 = get_word_vector(\"plant\", bert1[1], predict_hidden1)  \n",
    "plant3 = get_word_vector(\"plant\", bert3[1], predict_hidden3)  \n",
    "factory = get_word_vector(\"factory\", bert2[1], predict_hidden2)  \n",
    "production = get_word_vector(\"production\", bert1[1], predict_hidden2) \n",
    "\n",
    "dist_plant1_plant3 = cosine(plant1, plant3)\n",
    "dist_plant1_factory = cosine(plant1,factory)\n",
    "dist_plant1_production = cosine(plant1,production)\n",
    "dist_plant3_production = cosine(plant3,production)\n",
    "\n",
    "print(dist_plant1_plant3)\n",
    "print(dist_plant1_factory)\n",
    "print(dist_plant1_production)\n",
    "print(dist_plant3_production)\n"
   ]
  }
 ],
 "metadata": {
  "kernelspec": {
   "display_name": "Python 3 (ipykernel)",
   "language": "python",
   "name": "python3"
  },
  "language_info": {
   "codemirror_mode": {
    "name": "ipython",
    "version": 3
   },
   "file_extension": ".py",
   "mimetype": "text/x-python",
   "name": "python",
   "nbconvert_exporter": "python",
   "pygments_lexer": "ipython3",
   "version": "3.12.7"
  }
 },
 "nbformat": 4,
 "nbformat_minor": 4
}
